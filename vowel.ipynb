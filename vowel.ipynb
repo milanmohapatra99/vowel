{
 "cells": [
  {
   "cell_type": "code",
   "execution_count": 7,
   "id": "def0f6e1",
   "metadata": {},
   "outputs": [
    {
     "name": "stdout",
     "output_type": "stream",
     "text": [
      "vowel 5\n",
      "conosonent 8\n"
     ]
    }
   ],
   "source": [
    "a = \"it is a sunny day\"\n",
    "vowel = 0\n",
    "conoso = 0\n",
    "for i in range(0,len(a)):\n",
    "    if a[i]!=\" \":\n",
    "        if (a[i]==\"a\" or a[i]==\"e\" or a[i]==\"i\" or a[i]==\"o\" or a[i]==\"u\" or a[i]==\"A\" or a[i]==\"E\" or a[i]== \"I\" or a[i]==\"O\" or a[i]==\"U\"):\n",
    "            vowel += 1\n",
    "            \n",
    "        else:\n",
    "            conoso +=1\n",
    "print(\"vowel\",vowel)\n",
    "print(\"conosonent\",conoso)\n",
    "            "
   ]
  },
  {
   "cell_type": "code",
   "execution_count": null,
   "id": "b27acc7c",
   "metadata": {},
   "outputs": [],
   "source": []
  }
 ],
 "metadata": {
  "kernelspec": {
   "display_name": "Python 3 (ipykernel)",
   "language": "python",
   "name": "python3"
  },
  "language_info": {
   "codemirror_mode": {
    "name": "ipython",
    "version": 3
   },
   "file_extension": ".py",
   "mimetype": "text/x-python",
   "name": "python",
   "nbconvert_exporter": "python",
   "pygments_lexer": "ipython3",
   "version": "3.9.7"
  }
 },
 "nbformat": 4,
 "nbformat_minor": 5
}
